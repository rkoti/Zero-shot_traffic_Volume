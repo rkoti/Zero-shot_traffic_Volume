{
 "cells": [
  {
   "cell_type": "code",
   "execution_count": null,
   "id": "6af6da82-7bc1-4ef4-8b37-798800012335",
   "metadata": {},
   "outputs": [],
   "source": [
    "import pandas as pd\n",
    "from autogluon.timeseries import TimeSeriesDataFrame, TimeSeriesPredictor"
   ]
  },
  {
   "cell_type": "code",
   "execution_count": null,
   "id": "b6dabf22-b0ae-4709-8a12-40ccc0c1d4f3",
   "metadata": {},
   "outputs": [],
   "source": [
    "#file path\n",
    "\n",
    "path =r''"
   ]
  },
  {
   "cell_type": "code",
   "execution_count": null,
   "id": "a99536ff-8064-4506-b546-438e27fcc825",
   "metadata": {},
   "outputs": [],
   "source": [
    "# Load the data\n",
    "# fields = ['timestamp', 'Junction', 'target', 'year']\n",
    "read_data = pd.read_excel(path)\n",
    "# read_data['Day'] = pd.to_datetime(read_data['Day'])\n",
    "print(read_data.dtypes)\n",
    "read_data.head(3)"
   ]
  },
  {
   "cell_type": "code",
   "execution_count": null,
   "id": "44fa53f4-ce15-48c5-9dd3-7c51e02df29a",
   "metadata": {},
   "outputs": [],
   "source": [
    "# rename\n",
    "read_data = read_data.rename(columns={'NumVehicles': 'target', 'Day': 'timestamp'})\n",
    "read_data.tail(5)"
   ]
  },
  {
   "cell_type": "code",
   "execution_count": null,
   "id": "5a3b964b-c04c-4128-bb14-e36a10440d15",
   "metadata": {},
   "outputs": [],
   "source": [
    "#stat\n",
    "print(type(read_data))\n",
    "print(read_data.dtypes)\n",
    "print(read_data.info())\n",
    "print(read_data.head(3))"
   ]
  },
  {
   "cell_type": "code",
   "execution_count": null,
   "id": "2464ac8f-4f41-4669-9035-94d487e5a8e7",
   "metadata": {},
   "outputs": [],
   "source": [
    "# for splitting the data\n",
    "def split_time_series(read_data, train_ratio=0.96):\n",
    "    # Calculate the split point\n",
    "    split_index = int(len(read_data) * train_ratio)\n",
    "    \n",
    "    # Split the data\n",
    "    train = read_data.iloc[:split_index]\n",
    "    validation = read_data.iloc[split_index:]\n",
    "    \n",
    "    return train, validation\n"
   ]
  },
  {
   "cell_type": "code",
   "execution_count": null,
   "id": "ae5ddf9e-bfc9-4bbc-9476-b16d8974338e",
   "metadata": {},
   "outputs": [],
   "source": [
    "# Split the data\n",
    "train_data, validation_data = split_time_series(read_data, train_ratio=0.96) # 2015 =0.98 ; 2016=0.9966 ; 2017= 0.9933; j-0.96 for swiss"
   ]
  },
  {
   "cell_type": "code",
   "execution_count": null,
   "id": "15eee827-d229-4f8c-b3ce-3d56aa8dd2d9",
   "metadata": {},
   "outputs": [],
   "source": [
    "print(train_data.shape)\n",
    "print(validation_data.shape)"
   ]
  },
  {
   "cell_type": "code",
   "execution_count": null,
   "id": "5bf45719-881d-47d5-87a4-e6f6f5844dff",
   "metadata": {},
   "outputs": [],
   "source": [
    "train_split_data = TimeSeriesDataFrame.from_data_frame(\n",
    "    train_data,\n",
    "    id_column=\"item_id\",\n",
    "    timestamp_column=\"timestamp\"\n",
    ")\n"
   ]
  },
  {
   "cell_type": "code",
   "execution_count": null,
   "id": "4d76addc-5753-41d4-85ae-986264d6ab32",
   "metadata": {},
   "outputs": [],
   "source": [
    "#convert to hour\n",
    "train_data = train_split_data.convert_frequency(freq=\"D\")"
   ]
  },
  {
   "cell_type": "code",
   "execution_count": null,
   "id": "98b8f497-e392-4394-a005-140457c7a2ab",
   "metadata": {},
   "outputs": [],
   "source": [
    "#train\n",
    "log = r'C:\\Users\\rkotian\\Downloads\\traffic_logs'\n",
    "predictor = TimeSeriesPredictor(\n",
    "    prediction_length=30,\n",
    "    path=log,\n",
    "    target=\"target\",\n",
    "    eval_metric=\"MAE\", # or RMSE\n",
    "   \n",
    "    \n",
    ")"
   ]
  },
  {
   "cell_type": "code",
   "execution_count": null,
   "id": "c4b639cc-649f-4004-8a44-ee904d8554a5",
   "metadata": {},
   "outputs": [],
   "source": [
    "#fit\n",
    "predictor.fit(\n",
    "    train_data,\n",
    "    # presets=\"medium_quality\",\n",
    "    # time_limit=300,\n",
    "    hyperparameters = { \"TiDEModel\":{}} # PatchTSTModel, or SimpleFeedForwardModel or PatchTSTModel\n",
    "    \n",
    ")"
   ]
  },
  {
   "cell_type": "code",
   "execution_count": null,
   "id": "232d6fb4-e8b8-4b76-b198-78af89fa18be",
   "metadata": {},
   "outputs": [],
   "source": [
    "#predict\n",
    "predictions = predictor.predict(train_data)\n",
    "predictions.head(3)"
   ]
  },
  {
   "cell_type": "code",
   "execution_count": null,
   "id": "db6bade1-5747-4afd-b2ca-4ce865eb636f",
   "metadata": {},
   "outputs": [],
   "source": [
    "file =r'\n",
    "predictions.to_excel(file)"
   ]
  }
 ],
 "metadata": {
  "kernelspec": {
   "display_name": "pycaret",
   "language": "python",
   "name": "pycaret"
  },
  "language_info": {
   "codemirror_mode": {
    "name": "ipython",
    "version": 3
   },
   "file_extension": ".py",
   "mimetype": "text/x-python",
   "name": "python",
   "nbconvert_exporter": "python",
   "pygments_lexer": "ipython3",
   "version": "3.10.0"
  }
 },
 "nbformat": 4,
 "nbformat_minor": 5
}
