{
 "cells": [
  {
   "cell_type": "code",
   "execution_count": null,
   "id": "82c66592-606f-47c8-9ac8-fa8467b81d3e",
   "metadata": {},
   "outputs": [],
   "source": [
    "import pandas as pd\n",
    "from autogluon.timeseries import TimeSeriesDataFrame, TimeSeriesPredictor"
   ]
  },
  {
   "cell_type": "code",
   "execution_count": null,
   "id": "f2a1b4d7-a684-45d7-a1c9-822ff93974de",
   "metadata": {},
   "outputs": [],
   "source": [
    "#file path\n",
    "\n",
    "path =r''"
   ]
  },
  {
   "cell_type": "code",
   "execution_count": null,
   "id": "43cfbc26-4fde-4e2a-981a-69978c85da1f",
   "metadata": {},
   "outputs": [],
   "source": [
    "read_data = pd.read_excel(path)\n",
    "read_data['Day'] = pd.to_datetime(read_data['Day'])\n",
    "print(read_data.dtypes)\n",
    "read_data.head()"
   ]
  },
  {
   "cell_type": "code",
   "execution_count": null,
   "id": "85669713-4e9a-4c8b-8696-c6aebb02197e",
   "metadata": {},
   "outputs": [],
   "source": [
    "# Filter the data\n",
    "read_data = read_data.rename(columns={'NumVehicles': 'target', 'Day': 'timestamp'})\n",
    "read_data.tail(5)"
   ]
  },
  {
   "cell_type": "code",
   "execution_count": null,
   "id": "f71818d6-df77-4343-ad31-de4d3c768485",
   "metadata": {},
   "outputs": [],
   "source": [
    "#stat\n",
    "print(type(read_data))\n",
    "print(read_data.dtypes)\n",
    "print(read_data.info())\n",
    "print(read_data.head(3))"
   ]
  },
  {
   "cell_type": "code",
   "execution_count": null,
   "id": "677918c4-7d4d-432b-bce7-e5dfd34f542f",
   "metadata": {},
   "outputs": [],
   "source": [
    "# for splitting the data\n",
    "def split_time_series(read_data, train_ratio=0.96):\n",
    "    # Calculate the split point\n",
    "    split_index = int(len(read_data) * train_ratio)\n",
    "    \n",
    "    # Split the data\n",
    "    train = read_data.iloc[:split_index]\n",
    "    validation = read_data.iloc[split_index:]\n",
    "    \n",
    "    return train, validation"
   ]
  },
  {
   "cell_type": "code",
   "execution_count": null,
   "id": "53346723-9cc9-45ef-812f-c71cb28348fa",
   "metadata": {},
   "outputs": [],
   "source": [
    "# Split the data\n",
    "train_data, validation_data = split_time_series(read_data, train_ratio=0.96) # j1 =0.98 ; j2=0.9966 ; j-0.96 for swiss"
   ]
  },
  {
   "cell_type": "code",
   "execution_count": null,
   "id": "ad35bb8a-d56f-4efc-8ec0-3b0b5fc42495",
   "metadata": {},
   "outputs": [],
   "source": [
    "print(train_data.shape)\n",
    "print(validation_data.shape)"
   ]
  },
  {
   "cell_type": "code",
   "execution_count": null,
   "id": "a70b6619-e826-4a1e-9945-7ff2689b50f6",
   "metadata": {},
   "outputs": [],
   "source": [
    "t_data = TimeSeriesDataFrame.from_path(\n",
    "   train_data\n",
    ")\n",
    "t_data.head()"
   ]
  },
  {
   "cell_type": "code",
   "execution_count": null,
   "id": "103991a4-7b19-4cf4-9a86-6c89822e8481",
   "metadata": {},
   "outputs": [],
   "source": [
    "prediction_length = 30\n",
    "\n",
    "predictor = TimeSeriesPredictor(prediction_length=prediction_length).fit(\n",
    "    t_data, presets=\"chronos_tiny\",\n",
    ")"
   ]
  },
  {
   "cell_type": "code",
   "execution_count": null,
   "id": "0338e943-9361-42f7-8794-6c0356ce7da2",
   "metadata": {},
   "outputs": [],
   "source": [
    "predictions = predictor.predict(t_data)\n",
    "predictor.plot(\n",
    "    data=read_data,\n",
    "    predictions=predictions,\n",
    "    item_ids=read_data.item_id[:2],\n",
    "    \n",
    ");"
   ]
  },
  {
   "cell_type": "code",
   "execution_count": null,
   "id": "ebb67d57-aa97-4ba9-865a-fa4ceea11276",
   "metadata": {},
   "outputs": [],
   "source": [
    "predictions.head(10)"
   ]
  },
  {
   "cell_type": "code",
   "execution_count": null,
   "id": "9295f13d-2adf-4a09-8d57-8d55f0fc2596",
   "metadata": {},
   "outputs": [],
   "source": [
    "f_path = r''\n",
    "predictions.to_excel(f_path)"
   ]
  },
  {
   "cell_type": "code",
   "execution_count": null,
   "id": "fd0a9a7b-bb7c-442f-bbb7-4a9d6c708cc8",
   "metadata": {},
   "outputs": [],
   "source": [
    "predictor.leaderboard(t_data)"
   ]
  }
 ],
 "metadata": {
  "kernelspec": {
   "display_name": "timesfm",
   "language": "python",
   "name": "timesfm"
  },
  "language_info": {
   "codemirror_mode": {
    "name": "ipython",
    "version": 3
   },
   "file_extension": ".py",
   "mimetype": "text/x-python",
   "name": "python",
   "nbconvert_exporter": "python",
   "pygments_lexer": "ipython3",
   "version": "3.10.15"
  }
 },
 "nbformat": 4,
 "nbformat_minor": 5
}
