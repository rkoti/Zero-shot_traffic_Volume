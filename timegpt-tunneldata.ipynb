{
 "cells": [
  {
   "cell_type": "code",
   "execution_count": null,
   "id": "f2881cf8",
   "metadata": {},
   "outputs": [],
   "source": [
    "import pandas as pd\n",
    "from IPython.display import display"
   ]
  },
  {
   "cell_type": "code",
   "execution_count": null,
   "id": "bc333a09-a481-4d39-b791-e067debcffc0",
   "metadata": {},
   "outputs": [],
   "source": [
    "from nixtla import NixtlaClient"
   ]
  },
  {
   "cell_type": "code",
   "execution_count": null,
   "id": "157d8a02",
   "metadata": {},
   "outputs": [],
   "source": [
    "nixtla_client = NixtlaClient(\n",
    "    api_key = ''\n",
    ")\n"
   ]
  },
  {
   "cell_type": "code",
   "execution_count": null,
   "id": "7359111a",
   "metadata": {},
   "outputs": [],
   "source": [
    "nixtla_client.validate_api_key()\n"
   ]
  },
  {
   "cell_type": "code",
   "execution_count": null,
   "id": "1d806f01",
   "metadata": {},
   "outputs": [],
   "source": [
    "#file path\n",
    "\n",
    "path =r''"
   ]
  },
  {
   "cell_type": "code",
   "execution_count": null,
   "id": "39e72104",
   "metadata": {},
   "outputs": [],
   "source": [
    "# Load the data\n",
    "# fields = ['timestamp', 'target', 'day_of_week', 'Junction']\n",
    "read_data = pd.read_excel(path)\n",
    "#read_data['Day'] = pd.to_datetime(read_data['Day'])\n",
    "print(read_data.dtypes)\n",
    "read_data.head()"
   ]
  },
  {
   "cell_type": "code",
   "execution_count": null,
   "id": "b5be7e0c-2b1f-4779-91c2-f2a41d63b35c",
   "metadata": {},
   "outputs": [],
   "source": [
    "read_data = read_data.rename(columns={'NumVehicles': 'target'})"
   ]
  },
  {
   "cell_type": "code",
   "execution_count": null,
   "id": "0b9ac081-ac4b-41b2-bc0a-473805ca2e38",
   "metadata": {},
   "outputs": [],
   "source": [
    "#stat\n",
    "print(type(read_data))\n",
    "print(read_data.dtypes)\n",
    "print(read_data.info())\n",
    "print(read_data.head(3))"
   ]
  },
  {
   "cell_type": "code",
   "execution_count": null,
   "id": "7712a048-6207-4bbf-8e34-0a6ae6f814e5",
   "metadata": {},
   "outputs": [],
   "source": [
    "# for splitting the data\n",
    "def split_time_series(read_data, train_ratio=0.9598):\n",
    "    # Calculate the split point\n",
    "    split_index = int(len(read_data) * train_ratio)\n",
    "    \n",
    "    # Split the data\n",
    "    train = read_data.iloc[:split_index]\n",
    "    validation = read_data.iloc[split_index:]\n",
    "    \n",
    "    return train, validation\n"
   ]
  },
  {
   "cell_type": "code",
   "execution_count": null,
   "id": "ce512527-320a-4bd0-b4d9-28ac038c1373",
   "metadata": {},
   "outputs": [],
   "source": [
    "# Split the data\n",
    "train_data, validation_data = split_time_series(read_data, train_ratio=0.9598)"
   ]
  },
  {
   "cell_type": "code",
   "execution_count": null,
   "id": "ffad5a65-c051-48b9-bbd2-f1b8a1c2832d",
   "metadata": {},
   "outputs": [],
   "source": [
    "print(train_data.shape)\n",
    "print(validation_data.shape)"
   ]
  },
  {
   "cell_type": "code",
   "execution_count": null,
   "id": "62a045cd-4938-45be-a4af-873ee0d05a90",
   "metadata": {},
   "outputs": [],
   "source": [
    "train_data.tail(5)"
   ]
  },
  {
   "cell_type": "code",
   "execution_count": null,
   "id": "4e3eb0ab-acbb-4ae3-ad8e-c62201c143f9",
   "metadata": {},
   "outputs": [],
   "source": [
    "validation_data.head(5)"
   ]
  },
  {
   "cell_type": "code",
   "execution_count": null,
   "id": "6b9fe7b4",
   "metadata": {},
   "outputs": [],
   "source": [
    "nixtla_client.plot(train_data, time_col='Day', target_col='target', engine='plotly')\n"
   ]
  },
  {
   "cell_type": "code",
   "execution_count": null,
   "id": "2b672d9b",
   "metadata": {},
   "outputs": [],
   "source": [
    "timegpt_fcst_df = nixtla_client.forecast(df=train_data, h=30, freq='D', time_col='Day', target_col='target')\n",
    "timegpt_fcst_df.to_excel('', index=False)"
   ]
  },
  {
   "cell_type": "code",
   "execution_count": null,
   "id": "38b0cab6-f9c1-4ea0-b8c2-6e0de24fa9f2",
   "metadata": {},
   "outputs": [],
   "source": [
    "timegpt_fcst_df"
   ]
  },
  {
   "cell_type": "code",
   "execution_count": null,
   "id": "f0498c8c",
   "metadata": {},
   "outputs": [],
   "source": [
    "nixtla_client.plot(train_data, timegpt_fcst_df, time_col='Day', target_col='target')"
   ]
  },
  {
   "cell_type": "code",
   "execution_count": null,
   "id": "448eac87",
   "metadata": {},
   "outputs": [],
   "source": [
    "timegpt_fcst_df = nixtla_client.forecast(df=df, h=3, freq='h', time_col='timestamp', target_col='target')\n",
    "timegpt_fcst_df.head()\n"
   ]
  },
  {
   "cell_type": "code",
   "execution_count": null,
   "id": "515dd0e7",
   "metadata": {},
   "outputs": [],
   "source": []
  }
 ],
 "metadata": {
  "kernelspec": {
   "display_name": "Python 3 (ipykernel)",
   "language": "python",
   "name": "python3"
  },
  "language_info": {
   "codemirror_mode": {
    "name": "ipython",
    "version": 3
   },
   "file_extension": ".py",
   "mimetype": "text/x-python",
   "name": "python",
   "nbconvert_exporter": "python",
   "pygments_lexer": "ipython3",
   "version": "3.12.7"
  }
 },
 "nbformat": 4,
 "nbformat_minor": 5
}
